{
  "nbformat": 4,
  "nbformat_minor": 0,
  "metadata": {
    "colab": {
      "name": "Hallar el camino",
      "provenance": []
    },
    "kernelspec": {
      "name": "python3",
      "display_name": "Python 3"
    },
    "language_info": {
      "name": "python"
    }
  },
  "cells": [
    {
      "cell_type": "code",
      "execution_count": null,
      "metadata": {
        "id": "ReDdMipzG6IK"
      },
      "outputs": [],
      "source": [
        "#este metodo es para calcular los pesos, esto es una función en proceso de desarrollo\n",
        "#los caminos se leen desde un archivo xlsx (Microsoft excel) que contiene las adyacencias de los caminos\n",
        "#y los pesos de esos caminos se leeen desde otro excel\n",
        "#en este ejemplo se usaran dos excel de prueba.\n",
        "import pandas as pd\n",
        "adyecencia= pd.read_excel('Lista_Adyaciencia_prueba.xlsx', header=0, names = ['Calles'])\n",
        "pesos= pd.read_excel('Lista_Pesos_prueba.xlsx',header=0)\n",
        "#para los pesos en la noche, se esta añadiendo otra lista que se leera si la hora pasa las 18:00 pm (input 18)\n",
        "pesos_noche= pd.read_excel('Lista_Pesos_pruebaNoche.xlsx',header=0)\n"
      ]
    },
    {
      "cell_type": "code",
      "source": [
        "#aqui estan todas las funciones que se crearan para el proyecto.\n",
        "\n",
        "\n",
        "def camino_dijkstra(visitar, inicio, final):\n",
        "    D = \"\"\n",
        "    actual = inicio\n",
        "    while not (actual == final):\n",
        "        (dist, current_vertex) = pq.get()\n",
        "        graph.visited.append(current_vertex)\n",
        "\n",
        "        for neighbor in range(graph.v):\n",
        "            if graph.edges[current_vertex][neighbor] != -1:\n",
        "                distance = graph.edges[current_vertex][neighbor]\n",
        "                if neighbor not in graph.visited:\n",
        "                    old_cost = D[neighbor]\n",
        "                    new_cost = D[current_vertex] + distance\n",
        "                    if new_cost < old_cost:\n",
        "                        pq.put((new_cost, neighbor))\n",
        "                        D[neighbor] = new_cost\n",
        "    return D\n"
      ],
      "metadata": {
        "id": "135_PAUzLNl3"
      },
      "execution_count": 1,
      "outputs": []
    },
    {
      "cell_type": "code",
      "source": [
        "if __name__ == '__main__':\n",
        "  print(\"Ingrese la hora, solo de 1 - 24\")\n",
        "  hora = input()\n",
        "  hora = int(n)\n",
        "\n",
        "  print(\"ingrese el origen\")\n",
        "  origen = input()\n",
        "  origen = int(origen)\n",
        "  print(\"ingrese el destino\")\n",
        "  destino = input()\n",
        "  destino = int(destino)\n",
        "  visitados = []\n",
        "\n",
        "  if(hora < 18):\n",
        "    datos = pesos\n",
        "  else:\n",
        "    datos = pesos_noche\n",
        "\n",
        "  camino_dijkstra(visitados, origen, destino)\n"
      ],
      "metadata": {
        "id": "GszhoMKGJ_EW"
      },
      "execution_count": null,
      "outputs": []
    }
  ]
}