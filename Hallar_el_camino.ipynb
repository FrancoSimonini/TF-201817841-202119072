{
  "nbformat": 4,
  "nbformat_minor": 0,
  "metadata": {
    "colab": {
      "name": "Hallar el camino",
      "provenance": [],
      "collapsed_sections": []
    },
    "kernelspec": {
      "name": "python3",
      "display_name": "Python 3"
    },
    "language_info": {
      "name": "python"
    }
  },
  "cells": [
    {
      "cell_type": "markdown",
      "source": [
        "#Hallar El Camino\n",
        "##En este programa, se creara un grafo con un documento de excel, y se calculara el camino mas corto desde un camino a otro\n",
        "##__instrucciones__\n",
        "###Primero, se ingresa la hora, que es un entero de 1 a 24.\n",
        "###Segundo, se introduce el trafico, que va de valores de 1 a 100.\n",
        "##__Construccion__\n",
        "###Del archivo de excel, se crea un grafo que es la conexion entre los nodos descritos en el archivo.\n",
        "##__Calculo__\n",
        "###luego, se ingresa el nodo de inicio, y se calcula la ruta mas corta.\n",
        "\n",
        "#El programa calculara el camino mas corto desde un nodo inicial."
      ],
      "metadata": {
        "id": "_laszeyoxM_2"
      }
    },
    {
      "cell_type": "code",
      "source": [
        "!pip install igraph\n",
        "!pip install matplotlib"
      ],
      "metadata": {
        "colab": {
          "base_uri": "https://localhost:8080/"
        },
        "id": "LXICaErhDrCz",
        "outputId": "a3f81237-d94f-4822-b984-ebd1864f5c8d"
      },
      "execution_count": 54,
      "outputs": [
        {
          "output_type": "stream",
          "name": "stdout",
          "text": [
            "Looking in indexes: https://pypi.org/simple, https://us-python.pkg.dev/colab-wheels/public/simple/\n",
            "Requirement already satisfied: igraph in /usr/local/lib/python3.7/dist-packages (0.9.11)\n",
            "Requirement already satisfied: texttable>=1.6.2 in /usr/local/lib/python3.7/dist-packages (from igraph) (1.6.4)\n",
            "Looking in indexes: https://pypi.org/simple, https://us-python.pkg.dev/colab-wheels/public/simple/\n",
            "Requirement already satisfied: matplotlib in /usr/local/lib/python3.7/dist-packages (3.2.2)\n",
            "Requirement already satisfied: cycler>=0.10 in /usr/local/lib/python3.7/dist-packages (from matplotlib) (0.11.0)\n",
            "Requirement already satisfied: numpy>=1.11 in /usr/local/lib/python3.7/dist-packages (from matplotlib) (1.21.6)\n",
            "Requirement already satisfied: python-dateutil>=2.1 in /usr/local/lib/python3.7/dist-packages (from matplotlib) (2.8.2)\n",
            "Requirement already satisfied: kiwisolver>=1.0.1 in /usr/local/lib/python3.7/dist-packages (from matplotlib) (1.4.3)\n",
            "Requirement already satisfied: pyparsing!=2.0.4,!=2.1.2,!=2.1.6,>=2.0.1 in /usr/local/lib/python3.7/dist-packages (from matplotlib) (3.0.9)\n",
            "Requirement already satisfied: typing-extensions in /usr/local/lib/python3.7/dist-packages (from kiwisolver>=1.0.1->matplotlib) (4.1.1)\n",
            "Requirement already satisfied: six>=1.5 in /usr/local/lib/python3.7/dist-packages (from python-dateutil>=2.1->matplotlib) (1.15.0)\n"
          ]
        }
      ]
    },
    {
      "cell_type": "code",
      "execution_count": 61,
      "metadata": {
        "id": "ReDdMipzG6IK"
      },
      "outputs": [],
      "source": [
        "\n",
        "import pandas as pd\n",
        "import igraph as ig\n",
        "import matplotlib.pyplot as plt\n",
        "from queue import PriorityQueue\n",
        "tabla = pd.read_excel('lima_parte_escogida.xlsx')\n"
      ]
    },
    {
      "cell_type": "markdown",
      "source": [
        "\n",
        "##los caminos se leen desde un archivo xlsx (Microsoft excel) que contiene las adyacencias de los caminos\n",
        "##y los pesos de esos caminos se leeen desde otro excel\n",
        "##en este ejemplo se usaran dos excel de prueba."
      ],
      "metadata": {
        "id": "TRTtd1nF3-BM"
      }
    },
    {
      "cell_type": "markdown",
      "source": [
        "#En este cuadro de texto, se encuentra el metodo es para calcular los pesos."
      ],
      "metadata": {
        "id": "S4WplsGT4fsc"
      }
    },
    {
      "cell_type": "code",
      "source": [
        "#aqui estan todas las funciones que se crearan para el proyecto.\n",
        "def modificar_camino(distancia_f, hora_f, trafico_f, velocidad_f):\n",
        "    if (hora_f >= 18):\n",
        "      factor_hora = 1.65\n",
        "    else:\n",
        "      factor_hora = 1\n",
        "    factor_a = factor_hora * trafico_f\n",
        "    factor_b = factor_a / velocidad_f\n",
        "    factor_final = distancia_f * factor_b\n",
        "    return factor_final"
      ],
      "metadata": {
        "id": "135_PAUzLNl3"
      },
      "execution_count": 118,
      "outputs": []
    },
    {
      "cell_type": "code",
      "source": [
        "adyacencia = tabla[['Item', 'ID_Origen_intereccion', 'ID_Final_Interseccion', 'distancia_Km', 'velocidad']]\n",
        "print(adyacencia)"
      ],
      "metadata": {
        "colab": {
          "base_uri": "https://localhost:8080/"
        },
        "id": "fQgnv0JCib3X",
        "outputId": "00c7eba1-2de8-44d5-c323-9287d4c92e87"
      },
      "execution_count": 62,
      "outputs": [
        {
          "output_type": "stream",
          "name": "stdout",
          "text": [
            "   Item  ID_Origen_intereccion  ID_Final_Interseccion  distancia_Km  velocidad\n",
            "0     1                      1                      6      0.038973         70\n",
            "1     2                      6                      5      0.004040         70\n",
            "2     3                      5                      4      0.018227         70\n",
            "3     4                      4                      3      0.037674         70\n",
            "4     5                      3                      7      0.010827         70\n",
            "5     6                      7                      8      0.072327         70\n",
            "6     7                      8                      2      0.022975         70\n",
            "7     8                      2                      1      0.020991         70\n"
          ]
        }
      ]
    },
    {
      "cell_type": "markdown",
      "source": [
        "#Este es el algoritmo que realiza toda la operacion\n",
        "##Primero, anota la hora de 1 a 24 y luego el trafico de 1 a 100\n",
        "##despues, escribe el nodo inicial y luego el nodo final"
      ],
      "metadata": {
        "id": "1RkeYuFktBav"
      }
    },
    {
      "cell_type": "code",
      "source": [
        "print(\"Ingrese la hora, solo de 1 - 24\")\n",
        "hora = input()\n",
        "hora = int(hora)\n",
        "print(\"Ingrese el trafico, de 1 - 100\")\n",
        "trafico = input()\n",
        "trafico = int(trafico)\n",
        "\n",
        "g = ig.Graph(8)\n",
        "#añadiendo los pesos\n",
        "for i in range(8):\n",
        "  item_origen = adyacencia['ID_Origen_intereccion'][i]\n",
        "  item_final = adyacencia['ID_Final_Interseccion'][i]\n",
        "  item_distancia_Km = adyacencia['distancia_Km'][i]\n",
        "  item_velocidad = adyacencia['velocidad'][i]\n",
        "\n",
        "  nodo_origen, = adyacencia.loc[adyacencia['Item'] == item_origen].index\n",
        "  nodo_final, = adyacencia.loc[adyacencia['Item'] == item_final].index\n",
        "  peso = modificar_camino(item_distancia_Km, hora, trafico, item_velocidad)\n",
        "  g.add_edge(nodo_origen, nodo_final)\n",
        "  g.es[i][\"Peso\"]= peso\n",
        "\n",
        "print(\"Ingrese el nodo inicial\")\n",
        "inicio = input()\n",
        "inicio = int(inicio)\n",
        "\n",
        "print(\"Ingrese el nodo destino\")\n",
        "destino = input()\n",
        "destino = int(destino)\n",
        "resultados = g.get_shortest_paths(\n",
        "    inicio,\n",
        "    to=destino,\n",
        "    weights=g.es[\"Peso\"],\n",
        "    output=\"epath\",\n",
        ")\n",
        "\n",
        "if len(resultados[0]) > 0:\n",
        "    distancia = 0\n",
        "    for e in resultados[0]:\n",
        "        distancia += g.es[e][\"Peso\"]\n",
        "    print(\"La distancia mas corta es: \", distancia)\n",
        "else:\n",
        "    print(\"No se pudo llegar al objetivo...\")\n",
        "\n",
        "g.es['width'] = 0.5\n",
        "#g.es[resultados[0]]['width'] = 2.5\n",
        "\n",
        "\n",
        "fig, ax = plt.subplots()\n",
        "ig.plot(\n",
        "    g,\n",
        "    target=ax,\n",
        "    layout='circle',\n",
        "    vertex_color='steelblue',\n",
        "    vertex_label=range(g.vcount()),\n",
        "    edge_width=0.5,\n",
        "    edge_label=g.es[\"Peso\"],\n",
        "    edge_color='#666',\n",
        "    edge_align_label=True,\n",
        "    edge_background='white',\n",
        ")"
      ],
      "metadata": {
        "id": "GszhoMKGJ_EW",
        "colab": {
          "base_uri": "https://localhost:8080/",
          "height": 421
        },
        "outputId": "4623531d-f651-40fb-c55c-5e7cd53bc362"
      },
      "execution_count": 139,
      "outputs": [
        {
          "output_type": "stream",
          "name": "stdout",
          "text": [
            "Ingrese la hora, solo de 1 - 24\n",
            "18\n",
            "Ingrese el trafico, de 1 - 100\n",
            "75\n",
            "Ingrese el nodo inicial\n",
            "0\n",
            "Ingrese el nodo destino\n",
            "4\n",
            "La distancia mas corta es:  0.07604083928571427\n"
          ]
        },
        {
          "output_type": "display_data",
          "data": {
            "text/plain": [
              "<Figure size 432x288 with 1 Axes>"
            ],
            "image/png": "[encoded data removed]"
          },
          "metadata": {
            "needs_background": "light"
          }
        }
      ]
    }
  ]
}